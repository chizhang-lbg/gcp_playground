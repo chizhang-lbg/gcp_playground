{
 "cells": [
  {
   "cell_type": "markdown",
   "id": "9f1eeb08-b762-4d4f-868b-253619274bc9",
   "metadata": {},
   "source": [
    "## Churn prediction\n",
    "\n",
    "Data source: https://www.kaggle.com/datasets/pentakrishnakishore/bank-customer-churn-data/data"
   ]
  },
  {
   "cell_type": "markdown",
   "id": "ecd54d87-d652-4a8a-9eea-29cdc3570cff",
   "metadata": {},
   "source": [
    "#### Load dataset"
   ]
  },
  {
   "cell_type": "code",
   "execution_count": 13,
   "id": "1a771c12-b065-4cdd-a92e-7af8daaf7ad8",
   "metadata": {},
   "outputs": [
    {
     "data": {
      "application/vnd.jupyter.widget-view+json": {
       "model_id": "60e5f424d0a54836b5883821822e8f46",
       "version_major": 2,
       "version_minor": 0
      },
      "text/plain": [
       "Query is running:   0%|          |"
      ]
     },
     "metadata": {},
     "output_type": "display_data"
    },
    {
     "data": {
      "application/vnd.jupyter.widget-view+json": {
       "model_id": "32fe6a71ba644cb8b85010926a2307fe",
       "version_major": 2,
       "version_minor": 0
      },
      "text/plain": [
       "Downloading:   0%|          |"
      ]
     },
     "metadata": {},
     "output_type": "display_data"
    }
   ],
   "source": [
    "%%bigquery churn_rawdata\n",
    "SELECT \n",
    "  *\n",
    "FROM \n",
    "  playpen-d5de31.data_science_dataset.churn_data;"
   ]
  },
  {
   "cell_type": "code",
   "execution_count": 15,
   "id": "b8354fe5-a0c3-4440-8874-5d838a0e2f3a",
   "metadata": {},
   "outputs": [
    {
     "name": "stdout",
     "output_type": "stream",
     "text": [
      "<class 'pandas.core.frame.DataFrame'>\n",
      "RangeIndex: 28382 entries, 0 to 28381\n",
      "Data columns (total 21 columns):\n",
      " #   Column                          Non-Null Count  Dtype  \n",
      "---  ------                          --------------  -----  \n",
      " 0   customer_id                     28382 non-null  Int64  \n",
      " 1   vintage                         28382 non-null  Int64  \n",
      " 2   age                             28382 non-null  Int64  \n",
      " 3   gender                          27857 non-null  object \n",
      " 4   dependents                      25919 non-null  float64\n",
      " 5   occupation                      28302 non-null  object \n",
      " 6   city                            27579 non-null  float64\n",
      " 7   customer_nw_category            28382 non-null  Int64  \n",
      " 8   branch_code                     28382 non-null  Int64  \n",
      " 9   current_balance                 28382 non-null  float64\n",
      " 10  previous_month_end_balance      28382 non-null  float64\n",
      " 11  average_monthly_balance_prevQ   28382 non-null  float64\n",
      " 12  average_monthly_balance_prevQ2  28382 non-null  float64\n",
      " 13  current_month_credit            28382 non-null  float64\n",
      " 14  previous_month_credit           28382 non-null  float64\n",
      " 15  current_month_debit             28382 non-null  float64\n",
      " 16  previous_month_debit            28382 non-null  float64\n",
      " 17  current_month_balance           28382 non-null  float64\n",
      " 18  previous_month_balance          28382 non-null  float64\n",
      " 19  churn                           28382 non-null  Int64  \n",
      " 20  last_transaction                28382 non-null  object \n",
      "dtypes: Int64(6), float64(12), object(3)\n",
      "memory usage: 4.7+ MB\n"
     ]
    }
   ],
   "source": [
    "churn_rawdata.info()"
   ]
  },
  {
   "cell_type": "code",
   "execution_count": null,
   "id": "1823a6a5-9fe4-462e-875a-aec62baac816",
   "metadata": {},
   "outputs": [],
   "source": []
  }
 ],
 "metadata": {
  "environment": {
   "kernel": "python3",
   "name": "tf2-gpu.2-13.m112",
   "type": "gcloud",
   "uri": "gcr.io/deeplearning-platform-release/tf2-gpu.2-13:m112"
  },
  "kernelspec": {
   "display_name": "Python 3",
   "language": "python",
   "name": "python3"
  },
  "language_info": {
   "codemirror_mode": {
    "name": "ipython",
    "version": 3
   },
   "file_extension": ".py",
   "mimetype": "text/x-python",
   "name": "python",
   "nbconvert_exporter": "python",
   "pygments_lexer": "ipython3",
   "version": "3.10.12"
  }
 },
 "nbformat": 4,
 "nbformat_minor": 5
}
