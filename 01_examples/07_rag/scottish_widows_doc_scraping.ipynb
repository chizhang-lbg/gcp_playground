{
 "cells": [
  {
   "cell_type": "markdown",
   "id": "cf991a34",
   "metadata": {},
   "source": [
    "# Scottish Widows Document Scraping\n",
    "\n",
    "For the literature library search:  \n",
    "https://adviser.scottishwidows.co.uk/literature-library.html\n",
    "\n",
    "For specific searching cirteria, for example *guides*:  \n",
    "https://adviser.scottishwidows.co.uk/literature-library.html?n=1000&filter=swe:literaturelibrary/contenttype/guides"
   ]
  },
  {
   "cell_type": "code",
   "execution_count": null,
   "id": "7c5b47fc",
   "metadata": {},
   "outputs": [],
   "source": [
    "import io, os\n",
    "from urllib.parse import urlparse\n",
    "\n",
    "import pandas as pd\n",
    "import requests\n",
    "from bs4 import BeautifulSoup\n",
    "from tqdm.notebook import tqdm\n",
    "import PyPDF2\n",
    "\n",
    "\n",
    "pd.options.display.max_rows = 100\n",
    "pd.options.display.max_columns = 100\n"
   ]
  },
  {
   "cell_type": "markdown",
   "id": "a3fec38c",
   "metadata": {},
   "source": [
    "## PDF Content Extraction"
   ]
  },
  {
   "cell_type": "code",
   "execution_count": null,
   "id": "94260311",
   "metadata": {},
   "outputs": [],
   "source": [
    "# Using pypdf2 to read a pdf uri\n",
    "\n",
    "pdf_url = \"https://adviser.scottishwidows.co.uk/assets/literature/docs/42365.pdf\"\n",
    "#pdf_url = \"https://adviser.scottishwidows.co.uk//assets/literature/docs/27316.pdf\"\n",
    "\n",
    "response = requests.get(url=pdf_url)\n",
    "\n",
    "assert response.status_code == requests.codes.ok\n",
    "\n",
    "\n",
    "pdf_reader = PyPDF2.PdfReader( io.BytesIO(response.content) )\n",
    "\n",
    "print(f\"Total pages: {len(pdf_reader.pages)}\")\n",
    "\n",
    "for i, page in enumerate(pdf_reader.pages):\n",
    "    page_text = page.extract_text()\n",
    "    print(f\"Page {i+1}: {page_text}\")\n"
   ]
  },
  {
   "cell_type": "code",
   "execution_count": null,
   "id": "25ca48e4",
   "metadata": {},
   "outputs": [],
   "source": [
    "def get_pdf_pages(pdf_url):\n",
    "    \"\"\"Extract content of a pdf file page by page and return in a DataFrame with page_number and page_text columns\"\"\"\n",
    "    \n",
    "    url_parsed = urlparse(pdf_url)\n",
    "    if url_parsed.scheme in ('file', ''): # possibly a local file\n",
    "        assert os.path.exists(url_parsed.path)\n",
    "        pdf_file = url_parsed.path\n",
    "    else: # possibly a remote url, need to fetch it first\n",
    "        response = requests.get(url=pdf_url)\n",
    "        assert response.status_code == requests.codes.ok\n",
    "        pdf_file = io.BytesIO(response.content)\n",
    "\n",
    "    pdf_reader = PyPDF2.PdfReader( pdf_file )\n",
    "        \n",
    "    return pd.DataFrame([\n",
    "            {\"page_number\": i+1, \"page_text\": page.extract_text()} \n",
    "            for i, page in enumerate(pdf_reader.pages)\n",
    "        ])\n"
   ]
  },
  {
   "cell_type": "code",
   "execution_count": null,
   "id": "b0b2eff1",
   "metadata": {},
   "outputs": [],
   "source": [
    "# local_file = \"../data/56036.pdf\"\n",
    "# df = get_pdf_pages(local_file)\n",
    "\n",
    "df = get_pdf_pages(pdf_url)\n",
    "\n",
    "df.head()              "
   ]
  },
  {
   "cell_type": "markdown",
   "id": "dfc2d574",
   "metadata": {},
   "source": [
    "## Search the literature library"
   ]
  },
  {
   "cell_type": "code",
   "execution_count": null,
   "id": "58fd2b83",
   "metadata": {},
   "outputs": [],
   "source": [
    "# single pdf\n",
    "# https://adviser.scottishwidows.co.uk/literature-library.html?filter=swe:literaturelibrary/contenttype/guides#search\n",
    "\n",
    "# search default: 10 itmes in a page \n",
    "search_url = \"https://adviser.scottishwidows.co.uk/literature-library.html?filter=swe:literaturelibrary/contenttype/guides#search\"\n",
    "\n",
    "# search and display all with number of items set to 1000\n",
    "search_url = \"https://adviser.scottishwidows.co.uk/literature-library.html?n=1000&filter=swe:literaturelibrary/contenttype/guides\"\n"
   ]
  },
  {
   "cell_type": "code",
   "execution_count": null,
   "id": "8ef8c59b",
   "metadata": {},
   "outputs": [],
   "source": [
    "search_response = requests.get(url=search_url)\n",
    "\n",
    "soup = BeautifulSoup(search_response.content, \"html.parser\")\n",
    "\n",
    "#search_response.content\n",
    "print(soup.title)"
   ]
  },
  {
   "cell_type": "markdown",
   "id": "0786eec4",
   "metadata": {},
   "source": [
    "### All the links in a page"
   ]
  },
  {
   "cell_type": "code",
   "execution_count": null,
   "id": "4804404e",
   "metadata": {},
   "outputs": [],
   "source": [
    "print(soup.title.string)\n",
    "\n",
    "# all links in the page\n",
    "nb_links = len(soup.find_all('a'))\n",
    "print(f\"There are {nb_links} links in this page.\\n\")\n",
    "\n",
    "# text from the page\n",
    "#print(soup.get_text())\n",
    "\n",
    "_ = [print(a) for a in soup.find_all('a')]"
   ]
  },
  {
   "cell_type": "code",
   "execution_count": null,
   "id": "4574d0db",
   "metadata": {},
   "outputs": [],
   "source": [
    "# all the resulting pdf files are in the anchor elements with \"title\" class\n",
    "download_links = soup.find_all(class_=\"title\")\n",
    "\n",
    "print(f\"Total downlaodable links: {len(download_links)}\")\n",
    "\n",
    "download_links[0]"
   ]
  },
  {
   "cell_type": "code",
   "execution_count": null,
   "id": "67562c7f",
   "metadata": {},
   "outputs": [],
   "source": [
    "print(download_links[0].get(\"href\"))\n",
    "print(download_links[0].string.strip())"
   ]
  },
  {
   "cell_type": "code",
   "execution_count": null,
   "id": "b323511c",
   "metadata": {},
   "outputs": [],
   "source": [
    "pdf_uris = [download_link.get(\"href\") for download_link in download_links]\n",
    "_ = [print(\"https://adviser.scottishwidows.co.uk/\" + uri) for uri in pdf_uris]"
   ]
  },
  {
   "cell_type": "code",
   "execution_count": null,
   "id": "9809a06d",
   "metadata": {},
   "outputs": [],
   "source": [
    "def get_all_pdf_links(entry_page_url):\n",
    "    \"\"\"Extract all pdf links from an url and return a DataFrame with title and pdf url as columns\"\"\"\n",
    "    \n",
    "    response = requests.get(url=entry_page_url)\n",
    "    soup = BeautifulSoup(response.content, \"html.parser\")\n",
    "\n",
    "    download_links = soup.find_all(class_=\"title\")\n",
    "    \n",
    "    df = pd.DataFrame([\n",
    "        {\"title\": pdf_link.string.strip(), \"url\": \"https://adviser.scottishwidows.co.uk\" + pdf_link.get(\"href\")} \n",
    "        for pdf_link in download_links \n",
    "    ])\n",
    "    \n",
    "    return df\n"
   ]
  },
  {
   "cell_type": "code",
   "execution_count": null,
   "id": "60116dc9",
   "metadata": {},
   "outputs": [],
   "source": [
    "pdf_urls_df = get_all_pdf_links(search_url)\n",
    "pdf_urls_df.tail()"
   ]
  },
  {
   "cell_type": "code",
   "execution_count": null,
   "id": "758c78be",
   "metadata": {},
   "outputs": [],
   "source": [
    "pdf_urls_df.shape"
   ]
  },
  {
   "cell_type": "markdown",
   "id": "140aa447",
   "metadata": {},
   "source": [
    "### Validating the end points"
   ]
  },
  {
   "cell_type": "code",
   "execution_count": null,
   "id": "d3fe5747",
   "metadata": {},
   "outputs": [],
   "source": [
    "def check_url_exist(url):\n",
    "    \"\"\"To check the url endpoint does exist\"\"\"\n",
    "    \n",
    "    response = requests.get(url=url)\n",
    "    \n",
    "    return response.status_code == requests.codes.ok\n",
    "\n",
    "def clean_pdf_urls(urls_df):\n",
    "    \"\"\"To remove all the invalid urls from the urls_df\"\"\"\n",
    "    \n",
    "    exist = urls_df[\"url\"].apply(check_url_exist) # ToDo: do it in parallel\n",
    "    \n",
    "    return urls_df.loc[exist]\n",
    "\n",
    "def is_encrypted(pdf_url):\n",
    "    response = requests.get(url=pdf_url)\n",
    "    assert response.status_code == requests.codes.ok\n",
    "    \n",
    "    pdf_reader = PyPDF2.PdfReader( io.BytesIO(response.content) )\n",
    "\n",
    "    return pdf_reader.is_encrypted\n",
    "\n",
    "print(is_encrypted(pdf_url))\n",
    "\n",
    "clean_pdf_urls(pdf_urls_df[0:10])"
   ]
  },
  {
   "cell_type": "code",
   "execution_count": null,
   "id": "f3d78d45",
   "metadata": {},
   "outputs": [],
   "source": [
    "pdf_urls_df[0:10].loc[lambda _s: _s.url.apply(check_url_exist)]"
   ]
  },
  {
   "cell_type": "code",
   "execution_count": null,
   "id": "d68b7d5d",
   "metadata": {},
   "outputs": [],
   "source": [
    "#%%timeit -n 1 -r 1\n",
    "\n",
    "df1 = clean_pdf_urls(pdf_urls_df)\n",
    "\n",
    "(pdf_urls_df.shape, df1.shape)"
   ]
  },
  {
   "cell_type": "code",
   "execution_count": null,
   "id": "7daf7d4e",
   "metadata": {},
   "outputs": [],
   "source": [
    "#%%timeit -n 1 -r 1\n",
    "\n",
    "df2 = df1.url.apply(is_encrypted)\n",
    "\n",
    "df2.shape"
   ]
  },
  {
   "cell_type": "code",
   "execution_count": null,
   "id": "5f8d7bf2",
   "metadata": {},
   "outputs": [],
   "source": [
    "# some files are encrypted\n",
    "df1.loc[df2]"
   ]
  },
  {
   "cell_type": "markdown",
   "id": "975a1150",
   "metadata": {},
   "source": [
    "## Collect all the PDF Contents"
   ]
  },
  {
   "cell_type": "code",
   "execution_count": null,
   "id": "9814c11f",
   "metadata": {},
   "outputs": [],
   "source": [
    "for index, row in pdf_urls_df.iloc[0:2].iterrows():\n",
    "    print(f\"-------------{index}----\")\n",
    "    print(get_pdf_pages(row.url).assign(title=row.title))\n"
   ]
  },
  {
   "cell_type": "code",
   "execution_count": null,
   "id": "9f7e6103",
   "metadata": {},
   "outputs": [],
   "source": [
    "\n",
    "df = pd.concat(\n",
    "    [\n",
    "        get_pdf_pages(row.url).assign(title=row.title)\n",
    "        for index, row in pdf_urls_df.iloc[0:10].iterrows() if check_url_exist(row.url)\n",
    "    ],\n",
    "    axis=0, \n",
    "    ignore_index=True)\n",
    "\n",
    "print(df.shape)\n",
    "df.head()"
   ]
  },
  {
   "cell_type": "code",
   "execution_count": null,
   "id": "ccae29db",
   "metadata": {},
   "outputs": [],
   "source": [
    "df.tail()"
   ]
  },
  {
   "cell_type": "code",
   "execution_count": null,
   "id": "9a7ebe32",
   "metadata": {},
   "outputs": [],
   "source": [
    "#%%timeit -n 1 -r 1 # about 3.5 minutes to run\n",
    "import time\n",
    "\n",
    "start = time.time()\n",
    "guides_df = pd.concat(\n",
    "    [\n",
    "        get_pdf_pages(row.url).assign(title=row.title)\n",
    "        for index, row in pdf_urls_df.iterrows() if check_url_exist(row.url)\n",
    "    ],\n",
    "    axis=0, \n",
    "    ignore_index=True)\n",
    "print(time.time() - start)\n",
    "\n",
    "print(guides_df.shape)\n",
    "\n",
    "guides_df.tail()"
   ]
  },
  {
   "cell_type": "code",
   "execution_count": null,
   "id": "dbf046b4",
   "metadata": {},
   "outputs": [],
   "source": [
    "guides_df.memory_usage(deep=True)"
   ]
  },
  {
   "cell_type": "code",
   "execution_count": null,
   "id": "c1406f9f",
   "metadata": {},
   "outputs": [],
   "source": [
    "all_guides_file = \"../data/scottish_widows_all_guides.pq\""
   ]
  },
  {
   "cell_type": "code",
   "execution_count": null,
   "id": "ced9b828-a273-4e06-b49e-3d5c796d894f",
   "metadata": {},
   "outputs": [],
   "source": []
  },
  {
   "cell_type": "code",
   "execution_count": null,
   "id": "e114b5d5",
   "metadata": {},
   "outputs": [],
   "source": [
    "guides_df.to_parquet(all_guides_file)"
   ]
  },
  {
   "cell_type": "code",
   "execution_count": null,
   "id": "092dea76",
   "metadata": {},
   "outputs": [],
   "source": [
    "df2 = pd.read_parquet(all_guides_file)\n",
    "df2.head()"
   ]
  },
  {
   "cell_type": "code",
   "execution_count": null,
   "id": "111dca03",
   "metadata": {},
   "outputs": [],
   "source": [
    "df2.shape"
   ]
  },
  {
   "cell_type": "code",
   "execution_count": null,
   "id": "cc5643f3",
   "metadata": {},
   "outputs": [],
   "source": [
    "pd.testing.assert_frame_equal(df2, guides_df)"
   ]
  },
  {
   "cell_type": "markdown",
   "id": "4cf93fc7",
   "metadata": {},
   "source": [
    "## Scratch"
   ]
  },
  {
   "cell_type": "code",
   "execution_count": null,
   "id": "b5aac630",
   "metadata": {},
   "outputs": [],
   "source": [
    "#try_url = \"https://adviser.scottishwidows.co.uk//assets/literature/docs/42365.pdf\"\n",
    "#try_url = \"https://adviser.scottishwidows.co.uk//assets/literature/docs/fsaSWplcFSAReturn2007.pdf\"\n",
    "#try_url = \"https://adviser.scottishwidows.co.uk//assets/literature/docs/27316.pdf\"\n",
    "#try_url = \"https://adviser.scottishwidows.co.uk//assets/literature/docs/28742a.pdf\"\n",
    "#try_url = \"https://adviser.scottishwidows.co.uk//assets/literature/docs/56241.pdf\"\n",
    "\n",
    "#try_url = \"https://adviser.scottishwidows.co.uk/assets/literature/docs/52125.pdf\"\n",
    "#try_url = \"https://adviser.scottishwidows.co.uk/assets/literature/docs/56696.pdf\"\n",
    "try_url = \"https://adviser.scottishwidows.co.uk/assets/literature/docs/56036.pdf\"\n",
    "    \n",
    "get_pdf_pages(try_url)"
   ]
  },
  {
   "cell_type": "code",
   "execution_count": null,
   "id": "8bea22b3",
   "metadata": {},
   "outputs": [],
   "source": []
  },
  {
   "cell_type": "code",
   "execution_count": null,
   "id": "d167d617",
   "metadata": {},
   "outputs": [],
   "source": []
  }
 ],
 "metadata": {
  "environment": {
   "kernel": "python3",
   "name": "tf2-gpu.2-13.m114",
   "type": "gcloud",
   "uri": "gcr.io/deeplearning-platform-release/tf2-gpu.2-13:m114"
  },
  "kernelspec": {
   "display_name": "Python 3 (Local)",
   "language": "python",
   "name": "python3"
  },
  "language_info": {
   "codemirror_mode": {
    "name": "ipython",
    "version": 3
   },
   "file_extension": ".py",
   "mimetype": "text/x-python",
   "name": "python",
   "nbconvert_exporter": "python",
   "pygments_lexer": "ipython3",
   "version": "3.10.13"
  },
  "toc": {
   "base_numbering": 1,
   "nav_menu": {},
   "number_sections": true,
   "sideBar": true,
   "skip_h1_title": true,
   "title_cell": "Table of Contents",
   "title_sidebar": "Contents",
   "toc_cell": false,
   "toc_position": {},
   "toc_section_display": true,
   "toc_window_display": true
  }
 },
 "nbformat": 4,
 "nbformat_minor": 5
}
